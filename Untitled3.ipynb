{
 "cells": [
  {
   "cell_type": "code",
   "execution_count": 1,
   "id": "17e889db-c02d-48f2-9dce-fc3d9fd07005",
   "metadata": {},
   "outputs": [],
   "source": [
    "import pandas as pd"
   ]
  },
  {
   "cell_type": "code",
   "execution_count": 46,
   "id": "7ec9d864-fb1a-4326-9971-28a72a3e5ac5",
   "metadata": {},
   "outputs": [
    {
     "name": "stdout",
     "output_type": "stream",
     "text": [
      "   tenure  PhoneService  Contract  MonthlyCharges  TotalCharges  Churn  \\\n",
      "0       1             0         0           29.85         29.85      0   \n",
      "1      34             1         1           56.95       1889.50      0   \n",
      "2       2             1         0           53.85        108.15      1   \n",
      "3      45             0         1           42.30       1840.75      0   \n",
      "4       2             1         0           70.70        151.65      1   \n",
      "\n",
      "   totalcharge_tenure_ratio  \n",
      "0                 29.850000  \n",
      "1                 55.573529  \n",
      "2                 54.075000  \n",
      "3                 40.905556  \n",
      "4                 75.825000  \n"
     ]
    }
   ],
   "source": [
    "\n",
    "data = pd.read_csv('/Users/karthikchekuri/Desktop/regis ass/Churn_Prep.csv',index_col=[0])\n",
    "data = data.drop('customerID', axis=1)\n",
    "\n",
    "print(data.head())\n"
   ]
  },
  {
   "cell_type": "code",
   "execution_count": 31,
   "id": "ebbde571-9113-49c5-8aad-57070e8b183f",
   "metadata": {},
   "outputs": [],
   "source": [
    "from sklearn.model_selection import train_test_split\n",
    "\n",
    "X = data.drop('Churn', axis=1)\n",
    "y = data['Churn']\n",
    "\n",
    "\n",
    "X_train, X_test, y_train, y_test = train_test_split(X, y, test_size=0.2, random_state=42)\n"
   ]
  },
  {
   "cell_type": "markdown",
   "id": "a1c64bec-275b-45e2-8fe7-a949e3a93dd9",
   "metadata": {},
   "source": [
    "In this part of the code, I'm getting ready to build a machine learning model. To do that, I need to split my dataset into two parts: one for training the model and another for testing how well it performs. "
   ]
  },
  {
   "cell_type": "code",
   "execution_count": 32,
   "id": "b42a0282-1453-426a-ae26-0d6ad9e95170",
   "metadata": {},
   "outputs": [
    {
     "data": {
      "text/html": [
       "<style type=\"text/css\">\n",
       "#T_3c68c_row8_col1 {\n",
       "  background-color: lightgreen;\n",
       "}\n",
       "</style>\n",
       "<table id=\"T_3c68c\">\n",
       "  <thead>\n",
       "    <tr>\n",
       "      <th class=\"blank level0\" >&nbsp;</th>\n",
       "      <th id=\"T_3c68c_level0_col0\" class=\"col_heading level0 col0\" >Description</th>\n",
       "      <th id=\"T_3c68c_level0_col1\" class=\"col_heading level0 col1\" >Value</th>\n",
       "    </tr>\n",
       "  </thead>\n",
       "  <tbody>\n",
       "    <tr>\n",
       "      <th id=\"T_3c68c_level0_row0\" class=\"row_heading level0 row0\" >0</th>\n",
       "      <td id=\"T_3c68c_row0_col0\" class=\"data row0 col0\" >Session id</td>\n",
       "      <td id=\"T_3c68c_row0_col1\" class=\"data row0 col1\" >1407</td>\n",
       "    </tr>\n",
       "    <tr>\n",
       "      <th id=\"T_3c68c_level0_row1\" class=\"row_heading level0 row1\" >1</th>\n",
       "      <td id=\"T_3c68c_row1_col0\" class=\"data row1 col0\" >Target</td>\n",
       "      <td id=\"T_3c68c_row1_col1\" class=\"data row1 col1\" >Churn</td>\n",
       "    </tr>\n",
       "    <tr>\n",
       "      <th id=\"T_3c68c_level0_row2\" class=\"row_heading level0 row2\" >2</th>\n",
       "      <td id=\"T_3c68c_row2_col0\" class=\"data row2 col0\" >Target type</td>\n",
       "      <td id=\"T_3c68c_row2_col1\" class=\"data row2 col1\" >Binary</td>\n",
       "    </tr>\n",
       "    <tr>\n",
       "      <th id=\"T_3c68c_level0_row3\" class=\"row_heading level0 row3\" >3</th>\n",
       "      <td id=\"T_3c68c_row3_col0\" class=\"data row3 col0\" >Original data shape</td>\n",
       "      <td id=\"T_3c68c_row3_col1\" class=\"data row3 col1\" >(7032, 7)</td>\n",
       "    </tr>\n",
       "    <tr>\n",
       "      <th id=\"T_3c68c_level0_row4\" class=\"row_heading level0 row4\" >4</th>\n",
       "      <td id=\"T_3c68c_row4_col0\" class=\"data row4 col0\" >Transformed data shape</td>\n",
       "      <td id=\"T_3c68c_row4_col1\" class=\"data row4 col1\" >(7032, 7)</td>\n",
       "    </tr>\n",
       "    <tr>\n",
       "      <th id=\"T_3c68c_level0_row5\" class=\"row_heading level0 row5\" >5</th>\n",
       "      <td id=\"T_3c68c_row5_col0\" class=\"data row5 col0\" >Transformed train set shape</td>\n",
       "      <td id=\"T_3c68c_row5_col1\" class=\"data row5 col1\" >(4922, 7)</td>\n",
       "    </tr>\n",
       "    <tr>\n",
       "      <th id=\"T_3c68c_level0_row6\" class=\"row_heading level0 row6\" >6</th>\n",
       "      <td id=\"T_3c68c_row6_col0\" class=\"data row6 col0\" >Transformed test set shape</td>\n",
       "      <td id=\"T_3c68c_row6_col1\" class=\"data row6 col1\" >(2110, 7)</td>\n",
       "    </tr>\n",
       "    <tr>\n",
       "      <th id=\"T_3c68c_level0_row7\" class=\"row_heading level0 row7\" >7</th>\n",
       "      <td id=\"T_3c68c_row7_col0\" class=\"data row7 col0\" >Numeric features</td>\n",
       "      <td id=\"T_3c68c_row7_col1\" class=\"data row7 col1\" >6</td>\n",
       "    </tr>\n",
       "    <tr>\n",
       "      <th id=\"T_3c68c_level0_row8\" class=\"row_heading level0 row8\" >8</th>\n",
       "      <td id=\"T_3c68c_row8_col0\" class=\"data row8 col0\" >Preprocess</td>\n",
       "      <td id=\"T_3c68c_row8_col1\" class=\"data row8 col1\" >True</td>\n",
       "    </tr>\n",
       "    <tr>\n",
       "      <th id=\"T_3c68c_level0_row9\" class=\"row_heading level0 row9\" >9</th>\n",
       "      <td id=\"T_3c68c_row9_col0\" class=\"data row9 col0\" >Imputation type</td>\n",
       "      <td id=\"T_3c68c_row9_col1\" class=\"data row9 col1\" >simple</td>\n",
       "    </tr>\n",
       "    <tr>\n",
       "      <th id=\"T_3c68c_level0_row10\" class=\"row_heading level0 row10\" >10</th>\n",
       "      <td id=\"T_3c68c_row10_col0\" class=\"data row10 col0\" >Numeric imputation</td>\n",
       "      <td id=\"T_3c68c_row10_col1\" class=\"data row10 col1\" >mean</td>\n",
       "    </tr>\n",
       "    <tr>\n",
       "      <th id=\"T_3c68c_level0_row11\" class=\"row_heading level0 row11\" >11</th>\n",
       "      <td id=\"T_3c68c_row11_col0\" class=\"data row11 col0\" >Categorical imputation</td>\n",
       "      <td id=\"T_3c68c_row11_col1\" class=\"data row11 col1\" >mode</td>\n",
       "    </tr>\n",
       "    <tr>\n",
       "      <th id=\"T_3c68c_level0_row12\" class=\"row_heading level0 row12\" >12</th>\n",
       "      <td id=\"T_3c68c_row12_col0\" class=\"data row12 col0\" >Fold Generator</td>\n",
       "      <td id=\"T_3c68c_row12_col1\" class=\"data row12 col1\" >StratifiedKFold</td>\n",
       "    </tr>\n",
       "    <tr>\n",
       "      <th id=\"T_3c68c_level0_row13\" class=\"row_heading level0 row13\" >13</th>\n",
       "      <td id=\"T_3c68c_row13_col0\" class=\"data row13 col0\" >Fold Number</td>\n",
       "      <td id=\"T_3c68c_row13_col1\" class=\"data row13 col1\" >10</td>\n",
       "    </tr>\n",
       "    <tr>\n",
       "      <th id=\"T_3c68c_level0_row14\" class=\"row_heading level0 row14\" >14</th>\n",
       "      <td id=\"T_3c68c_row14_col0\" class=\"data row14 col0\" >CPU Jobs</td>\n",
       "      <td id=\"T_3c68c_row14_col1\" class=\"data row14 col1\" >-1</td>\n",
       "    </tr>\n",
       "    <tr>\n",
       "      <th id=\"T_3c68c_level0_row15\" class=\"row_heading level0 row15\" >15</th>\n",
       "      <td id=\"T_3c68c_row15_col0\" class=\"data row15 col0\" >Use GPU</td>\n",
       "      <td id=\"T_3c68c_row15_col1\" class=\"data row15 col1\" >False</td>\n",
       "    </tr>\n",
       "    <tr>\n",
       "      <th id=\"T_3c68c_level0_row16\" class=\"row_heading level0 row16\" >16</th>\n",
       "      <td id=\"T_3c68c_row16_col0\" class=\"data row16 col0\" >Log Experiment</td>\n",
       "      <td id=\"T_3c68c_row16_col1\" class=\"data row16 col1\" >False</td>\n",
       "    </tr>\n",
       "    <tr>\n",
       "      <th id=\"T_3c68c_level0_row17\" class=\"row_heading level0 row17\" >17</th>\n",
       "      <td id=\"T_3c68c_row17_col0\" class=\"data row17 col0\" >Experiment Name</td>\n",
       "      <td id=\"T_3c68c_row17_col1\" class=\"data row17 col1\" >clf-default-name</td>\n",
       "    </tr>\n",
       "    <tr>\n",
       "      <th id=\"T_3c68c_level0_row18\" class=\"row_heading level0 row18\" >18</th>\n",
       "      <td id=\"T_3c68c_row18_col0\" class=\"data row18 col0\" >USI</td>\n",
       "      <td id=\"T_3c68c_row18_col1\" class=\"data row18 col1\" >d83e</td>\n",
       "    </tr>\n",
       "  </tbody>\n",
       "</table>\n"
      ],
      "text/plain": [
       "<pandas.io.formats.style.Styler at 0x12d479c40>"
      ]
     },
     "metadata": {},
     "output_type": "display_data"
    },
    {
     "data": {
      "text/html": [],
      "text/plain": [
       "<IPython.core.display.HTML object>"
      ]
     },
     "metadata": {},
     "output_type": "display_data"
    },
    {
     "data": {
      "text/html": [
       "<style type=\"text/css\">\n",
       "#T_9513b th {\n",
       "  text-align: left;\n",
       "}\n",
       "#T_9513b_row0_col0, #T_9513b_row0_col2, #T_9513b_row0_col3, #T_9513b_row0_col4, #T_9513b_row0_col5, #T_9513b_row1_col0, #T_9513b_row1_col1, #T_9513b_row1_col2, #T_9513b_row1_col3, #T_9513b_row1_col5, #T_9513b_row1_col6, #T_9513b_row1_col7, #T_9513b_row2_col0, #T_9513b_row2_col1, #T_9513b_row2_col3, #T_9513b_row2_col4, #T_9513b_row2_col5, #T_9513b_row2_col6, #T_9513b_row2_col7, #T_9513b_row3_col0, #T_9513b_row3_col1, #T_9513b_row3_col2, #T_9513b_row3_col3, #T_9513b_row3_col4, #T_9513b_row3_col5, #T_9513b_row3_col6, #T_9513b_row3_col7, #T_9513b_row4_col0, #T_9513b_row4_col1, #T_9513b_row4_col2, #T_9513b_row4_col3, #T_9513b_row4_col4, #T_9513b_row4_col5, #T_9513b_row4_col6, #T_9513b_row4_col7, #T_9513b_row5_col0, #T_9513b_row5_col1, #T_9513b_row5_col2, #T_9513b_row5_col3, #T_9513b_row5_col4, #T_9513b_row5_col5, #T_9513b_row5_col6, #T_9513b_row5_col7, #T_9513b_row6_col0, #T_9513b_row6_col1, #T_9513b_row6_col2, #T_9513b_row6_col3, #T_9513b_row6_col4, #T_9513b_row6_col5, #T_9513b_row6_col6, #T_9513b_row6_col7, #T_9513b_row7_col0, #T_9513b_row7_col1, #T_9513b_row7_col2, #T_9513b_row7_col3, #T_9513b_row7_col4, #T_9513b_row7_col5, #T_9513b_row7_col6, #T_9513b_row7_col7, #T_9513b_row8_col0, #T_9513b_row8_col1, #T_9513b_row8_col2, #T_9513b_row8_col3, #T_9513b_row8_col4, #T_9513b_row8_col5, #T_9513b_row8_col6, #T_9513b_row8_col7, #T_9513b_row9_col0, #T_9513b_row9_col1, #T_9513b_row9_col2, #T_9513b_row9_col3, #T_9513b_row9_col4, #T_9513b_row9_col5, #T_9513b_row9_col6, #T_9513b_row9_col7, #T_9513b_row10_col0, #T_9513b_row10_col1, #T_9513b_row10_col2, #T_9513b_row10_col4, #T_9513b_row10_col6, #T_9513b_row10_col7, #T_9513b_row11_col0, #T_9513b_row11_col1, #T_9513b_row11_col2, #T_9513b_row11_col3, #T_9513b_row11_col4, #T_9513b_row11_col5, #T_9513b_row11_col6, #T_9513b_row11_col7, #T_9513b_row12_col0, #T_9513b_row12_col1, #T_9513b_row12_col2, #T_9513b_row12_col3, #T_9513b_row12_col4, #T_9513b_row12_col5, #T_9513b_row12_col6, #T_9513b_row12_col7, #T_9513b_row13_col0, #T_9513b_row13_col1, #T_9513b_row13_col2, #T_9513b_row13_col3, #T_9513b_row13_col4, #T_9513b_row13_col5, #T_9513b_row13_col6, #T_9513b_row13_col7, #T_9513b_row14_col0, #T_9513b_row14_col1, #T_9513b_row14_col2, #T_9513b_row14_col3, #T_9513b_row14_col4, #T_9513b_row14_col5, #T_9513b_row14_col6, #T_9513b_row14_col7 {\n",
       "  text-align: left;\n",
       "}\n",
       "#T_9513b_row0_col1, #T_9513b_row0_col6, #T_9513b_row0_col7, #T_9513b_row1_col4, #T_9513b_row2_col2, #T_9513b_row10_col3, #T_9513b_row10_col5 {\n",
       "  text-align: left;\n",
       "  background-color: yellow;\n",
       "}\n",
       "#T_9513b_row0_col8, #T_9513b_row1_col8, #T_9513b_row2_col8, #T_9513b_row3_col8, #T_9513b_row4_col8, #T_9513b_row5_col8, #T_9513b_row6_col8, #T_9513b_row7_col8, #T_9513b_row8_col8, #T_9513b_row9_col8, #T_9513b_row11_col8, #T_9513b_row12_col8, #T_9513b_row13_col8, #T_9513b_row14_col8 {\n",
       "  text-align: left;\n",
       "  background-color: lightgrey;\n",
       "}\n",
       "#T_9513b_row10_col8 {\n",
       "  text-align: left;\n",
       "  background-color: yellow;\n",
       "  background-color: lightgrey;\n",
       "}\n",
       "</style>\n",
       "<table id=\"T_9513b\">\n",
       "  <thead>\n",
       "    <tr>\n",
       "      <th class=\"blank level0\" >&nbsp;</th>\n",
       "      <th id=\"T_9513b_level0_col0\" class=\"col_heading level0 col0\" >Model</th>\n",
       "      <th id=\"T_9513b_level0_col1\" class=\"col_heading level0 col1\" >Accuracy</th>\n",
       "      <th id=\"T_9513b_level0_col2\" class=\"col_heading level0 col2\" >AUC</th>\n",
       "      <th id=\"T_9513b_level0_col3\" class=\"col_heading level0 col3\" >Recall</th>\n",
       "      <th id=\"T_9513b_level0_col4\" class=\"col_heading level0 col4\" >Prec.</th>\n",
       "      <th id=\"T_9513b_level0_col5\" class=\"col_heading level0 col5\" >F1</th>\n",
       "      <th id=\"T_9513b_level0_col6\" class=\"col_heading level0 col6\" >Kappa</th>\n",
       "      <th id=\"T_9513b_level0_col7\" class=\"col_heading level0 col7\" >MCC</th>\n",
       "      <th id=\"T_9513b_level0_col8\" class=\"col_heading level0 col8\" >TT (Sec)</th>\n",
       "    </tr>\n",
       "  </thead>\n",
       "  <tbody>\n",
       "    <tr>\n",
       "      <th id=\"T_9513b_level0_row0\" class=\"row_heading level0 row0\" >lr</th>\n",
       "      <td id=\"T_9513b_row0_col0\" class=\"data row0 col0\" >Logistic Regression</td>\n",
       "      <td id=\"T_9513b_row0_col1\" class=\"data row0 col1\" >0.7903</td>\n",
       "      <td id=\"T_9513b_row0_col2\" class=\"data row0 col2\" >0.8333</td>\n",
       "      <td id=\"T_9513b_row0_col3\" class=\"data row0 col3\" >0.5275</td>\n",
       "      <td id=\"T_9513b_row0_col4\" class=\"data row0 col4\" >0.6261</td>\n",
       "      <td id=\"T_9513b_row0_col5\" class=\"data row0 col5\" >0.5720</td>\n",
       "      <td id=\"T_9513b_row0_col6\" class=\"data row0 col6\" >0.4346</td>\n",
       "      <td id=\"T_9513b_row0_col7\" class=\"data row0 col7\" >0.4378</td>\n",
       "      <td id=\"T_9513b_row0_col8\" class=\"data row0 col8\" >0.8180</td>\n",
       "    </tr>\n",
       "    <tr>\n",
       "      <th id=\"T_9513b_level0_row1\" class=\"row_heading level0 row1\" >ridge</th>\n",
       "      <td id=\"T_9513b_row1_col0\" class=\"data row1 col0\" >Ridge Classifier</td>\n",
       "      <td id=\"T_9513b_row1_col1\" class=\"data row1 col1\" >0.7893</td>\n",
       "      <td id=\"T_9513b_row1_col2\" class=\"data row1 col2\" >0.0000</td>\n",
       "      <td id=\"T_9513b_row1_col3\" class=\"data row1 col3\" >0.4534</td>\n",
       "      <td id=\"T_9513b_row1_col4\" class=\"data row1 col4\" >0.6480</td>\n",
       "      <td id=\"T_9513b_row1_col5\" class=\"data row1 col5\" >0.5327</td>\n",
       "      <td id=\"T_9513b_row1_col6\" class=\"data row1 col6\" >0.4024</td>\n",
       "      <td id=\"T_9513b_row1_col7\" class=\"data row1 col7\" >0.4135</td>\n",
       "      <td id=\"T_9513b_row1_col8\" class=\"data row1 col8\" >0.0260</td>\n",
       "    </tr>\n",
       "    <tr>\n",
       "      <th id=\"T_9513b_level0_row2\" class=\"row_heading level0 row2\" >ada</th>\n",
       "      <td id=\"T_9513b_row2_col0\" class=\"data row2 col0\" >Ada Boost Classifier</td>\n",
       "      <td id=\"T_9513b_row2_col1\" class=\"data row2 col1\" >0.7879</td>\n",
       "      <td id=\"T_9513b_row2_col2\" class=\"data row2 col2\" >0.8347</td>\n",
       "      <td id=\"T_9513b_row2_col3\" class=\"data row2 col3\" >0.5099</td>\n",
       "      <td id=\"T_9513b_row2_col4\" class=\"data row2 col4\" >0.6244</td>\n",
       "      <td id=\"T_9513b_row2_col5\" class=\"data row2 col5\" >0.5609</td>\n",
       "      <td id=\"T_9513b_row2_col6\" class=\"data row2 col6\" >0.4230</td>\n",
       "      <td id=\"T_9513b_row2_col7\" class=\"data row2 col7\" >0.4271</td>\n",
       "      <td id=\"T_9513b_row2_col8\" class=\"data row2 col8\" >0.1640</td>\n",
       "    </tr>\n",
       "    <tr>\n",
       "      <th id=\"T_9513b_level0_row3\" class=\"row_heading level0 row3\" >gbc</th>\n",
       "      <td id=\"T_9513b_row3_col0\" class=\"data row3 col0\" >Gradient Boosting Classifier</td>\n",
       "      <td id=\"T_9513b_row3_col1\" class=\"data row3 col1\" >0.7867</td>\n",
       "      <td id=\"T_9513b_row3_col2\" class=\"data row3 col2\" >0.8344</td>\n",
       "      <td id=\"T_9513b_row3_col3\" class=\"data row3 col3\" >0.4572</td>\n",
       "      <td id=\"T_9513b_row3_col4\" class=\"data row3 col4\" >0.6383</td>\n",
       "      <td id=\"T_9513b_row3_col5\" class=\"data row3 col5\" >0.5317</td>\n",
       "      <td id=\"T_9513b_row3_col6\" class=\"data row3 col6\" >0.3988</td>\n",
       "      <td id=\"T_9513b_row3_col7\" class=\"data row3 col7\" >0.4086</td>\n",
       "      <td id=\"T_9513b_row3_col8\" class=\"data row3 col8\" >0.4030</td>\n",
       "    </tr>\n",
       "    <tr>\n",
       "      <th id=\"T_9513b_level0_row4\" class=\"row_heading level0 row4\" >lda</th>\n",
       "      <td id=\"T_9513b_row4_col0\" class=\"data row4 col0\" >Linear Discriminant Analysis</td>\n",
       "      <td id=\"T_9513b_row4_col1\" class=\"data row4 col1\" >0.7855</td>\n",
       "      <td id=\"T_9513b_row4_col2\" class=\"data row4 col2\" >0.8189</td>\n",
       "      <td id=\"T_9513b_row4_col3\" class=\"data row4 col3\" >0.5008</td>\n",
       "      <td id=\"T_9513b_row4_col4\" class=\"data row4 col4\" >0.6189</td>\n",
       "      <td id=\"T_9513b_row4_col5\" class=\"data row4 col5\" >0.5530</td>\n",
       "      <td id=\"T_9513b_row4_col6\" class=\"data row4 col6\" >0.4141</td>\n",
       "      <td id=\"T_9513b_row4_col7\" class=\"data row4 col7\" >0.4185</td>\n",
       "      <td id=\"T_9513b_row4_col8\" class=\"data row4 col8\" >0.0210</td>\n",
       "    </tr>\n",
       "    <tr>\n",
       "      <th id=\"T_9513b_level0_row5\" class=\"row_heading level0 row5\" >lightgbm</th>\n",
       "      <td id=\"T_9513b_row5_col0\" class=\"data row5 col0\" >Light Gradient Boosting Machine</td>\n",
       "      <td id=\"T_9513b_row5_col1\" class=\"data row5 col1\" >0.7822</td>\n",
       "      <td id=\"T_9513b_row5_col2\" class=\"data row5 col2\" >0.8241</td>\n",
       "      <td id=\"T_9513b_row5_col3\" class=\"data row5 col3\" >0.4778</td>\n",
       "      <td id=\"T_9513b_row5_col4\" class=\"data row5 col4\" >0.6175</td>\n",
       "      <td id=\"T_9513b_row5_col5\" class=\"data row5 col5\" >0.5380</td>\n",
       "      <td id=\"T_9513b_row5_col6\" class=\"data row5 col6\" >0.3987</td>\n",
       "      <td id=\"T_9513b_row5_col7\" class=\"data row5 col7\" >0.4047</td>\n",
       "      <td id=\"T_9513b_row5_col8\" class=\"data row5 col8\" >0.0750</td>\n",
       "    </tr>\n",
       "    <tr>\n",
       "      <th id=\"T_9513b_level0_row6\" class=\"row_heading level0 row6\" >xgboost</th>\n",
       "      <td id=\"T_9513b_row6_col0\" class=\"data row6 col0\" >Extreme Gradient Boosting</td>\n",
       "      <td id=\"T_9513b_row6_col1\" class=\"data row6 col1\" >0.7729</td>\n",
       "      <td id=\"T_9513b_row6_col2\" class=\"data row6 col2\" >0.8131</td>\n",
       "      <td id=\"T_9513b_row6_col3\" class=\"data row6 col3\" >0.4824</td>\n",
       "      <td id=\"T_9513b_row6_col4\" class=\"data row6 col4\" >0.5906</td>\n",
       "      <td id=\"T_9513b_row6_col5\" class=\"data row6 col5\" >0.5303</td>\n",
       "      <td id=\"T_9513b_row6_col6\" class=\"data row6 col6\" >0.3826</td>\n",
       "      <td id=\"T_9513b_row6_col7\" class=\"data row6 col7\" >0.3865</td>\n",
       "      <td id=\"T_9513b_row6_col8\" class=\"data row6 col8\" >0.2450</td>\n",
       "    </tr>\n",
       "    <tr>\n",
       "      <th id=\"T_9513b_level0_row7\" class=\"row_heading level0 row7\" >knn</th>\n",
       "      <td id=\"T_9513b_row7_col0\" class=\"data row7 col0\" >K Neighbors Classifier</td>\n",
       "      <td id=\"T_9513b_row7_col1\" class=\"data row7 col1\" >0.7690</td>\n",
       "      <td id=\"T_9513b_row7_col2\" class=\"data row7 col2\" >0.7464</td>\n",
       "      <td id=\"T_9513b_row7_col3\" class=\"data row7 col3\" >0.4426</td>\n",
       "      <td id=\"T_9513b_row7_col4\" class=\"data row7 col4\" >0.5885</td>\n",
       "      <td id=\"T_9513b_row7_col5\" class=\"data row7 col5\" >0.5041</td>\n",
       "      <td id=\"T_9513b_row7_col6\" class=\"data row7 col6\" >0.3576</td>\n",
       "      <td id=\"T_9513b_row7_col7\" class=\"data row7 col7\" >0.3645</td>\n",
       "      <td id=\"T_9513b_row7_col8\" class=\"data row7 col8\" >0.0490</td>\n",
       "    </tr>\n",
       "    <tr>\n",
       "      <th id=\"T_9513b_level0_row8\" class=\"row_heading level0 row8\" >rf</th>\n",
       "      <td id=\"T_9513b_row8_col0\" class=\"data row8 col0\" >Random Forest Classifier</td>\n",
       "      <td id=\"T_9513b_row8_col1\" class=\"data row8 col1\" >0.7661</td>\n",
       "      <td id=\"T_9513b_row8_col2\" class=\"data row8 col2\" >0.7994</td>\n",
       "      <td id=\"T_9513b_row8_col3\" class=\"data row8 col3\" >0.4686</td>\n",
       "      <td id=\"T_9513b_row8_col4\" class=\"data row8 col4\" >0.5766</td>\n",
       "      <td id=\"T_9513b_row8_col5\" class=\"data row8 col5\" >0.5155</td>\n",
       "      <td id=\"T_9513b_row8_col6\" class=\"data row8 col6\" >0.3638</td>\n",
       "      <td id=\"T_9513b_row8_col7\" class=\"data row8 col7\" >0.3681</td>\n",
       "      <td id=\"T_9513b_row8_col8\" class=\"data row8 col8\" >0.3790</td>\n",
       "    </tr>\n",
       "    <tr>\n",
       "      <th id=\"T_9513b_level0_row9\" class=\"row_heading level0 row9\" >et</th>\n",
       "      <td id=\"T_9513b_row9_col0\" class=\"data row9 col0\" >Extra Trees Classifier</td>\n",
       "      <td id=\"T_9513b_row9_col1\" class=\"data row9 col1\" >0.7564</td>\n",
       "      <td id=\"T_9513b_row9_col2\" class=\"data row9 col2\" >0.7737</td>\n",
       "      <td id=\"T_9513b_row9_col3\" class=\"data row9 col3\" >0.4771</td>\n",
       "      <td id=\"T_9513b_row9_col4\" class=\"data row9 col4\" >0.5508</td>\n",
       "      <td id=\"T_9513b_row9_col5\" class=\"data row9 col5\" >0.5098</td>\n",
       "      <td id=\"T_9513b_row9_col6\" class=\"data row9 col6\" >0.3491</td>\n",
       "      <td id=\"T_9513b_row9_col7\" class=\"data row9 col7\" >0.3516</td>\n",
       "      <td id=\"T_9513b_row9_col8\" class=\"data row9 col8\" >0.2770</td>\n",
       "    </tr>\n",
       "    <tr>\n",
       "      <th id=\"T_9513b_level0_row10\" class=\"row_heading level0 row10\" >qda</th>\n",
       "      <td id=\"T_9513b_row10_col0\" class=\"data row10 col0\" >Quadratic Discriminant Analysis</td>\n",
       "      <td id=\"T_9513b_row10_col1\" class=\"data row10 col1\" >0.7428</td>\n",
       "      <td id=\"T_9513b_row10_col2\" class=\"data row10 col2\" >0.8137</td>\n",
       "      <td id=\"T_9513b_row10_col3\" class=\"data row10 col3\" >0.7209</td>\n",
       "      <td id=\"T_9513b_row10_col4\" class=\"data row10 col4\" >0.5122</td>\n",
       "      <td id=\"T_9513b_row10_col5\" class=\"data row10 col5\" >0.5985</td>\n",
       "      <td id=\"T_9513b_row10_col6\" class=\"data row10 col6\" >0.4174</td>\n",
       "      <td id=\"T_9513b_row10_col7\" class=\"data row10 col7\" >0.4309</td>\n",
       "      <td id=\"T_9513b_row10_col8\" class=\"data row10 col8\" >0.0200</td>\n",
       "    </tr>\n",
       "    <tr>\n",
       "      <th id=\"T_9513b_level0_row11\" class=\"row_heading level0 row11\" >dt</th>\n",
       "      <td id=\"T_9513b_row11_col0\" class=\"data row11 col0\" >Decision Tree Classifier</td>\n",
       "      <td id=\"T_9513b_row11_col1\" class=\"data row11 col1\" >0.7369</td>\n",
       "      <td id=\"T_9513b_row11_col2\" class=\"data row11 col2\" >0.6667</td>\n",
       "      <td id=\"T_9513b_row11_col3\" class=\"data row11 col3\" >0.4862</td>\n",
       "      <td id=\"T_9513b_row11_col4\" class=\"data row11 col4\" >0.5052</td>\n",
       "      <td id=\"T_9513b_row11_col5\" class=\"data row11 col5\" >0.4950</td>\n",
       "      <td id=\"T_9513b_row11_col6\" class=\"data row11 col6\" >0.3173</td>\n",
       "      <td id=\"T_9513b_row11_col7\" class=\"data row11 col7\" >0.3178</td>\n",
       "      <td id=\"T_9513b_row11_col8\" class=\"data row11 col8\" >0.0250</td>\n",
       "    </tr>\n",
       "    <tr>\n",
       "      <th id=\"T_9513b_level0_row12\" class=\"row_heading level0 row12\" >nb</th>\n",
       "      <td id=\"T_9513b_row12_col0\" class=\"data row12 col0\" >Naive Bayes</td>\n",
       "      <td id=\"T_9513b_row12_col1\" class=\"data row12 col1\" >0.7347</td>\n",
       "      <td id=\"T_9513b_row12_col2\" class=\"data row12 col2\" >0.8126</td>\n",
       "      <td id=\"T_9513b_row12_col3\" class=\"data row12 col3\" >0.7011</td>\n",
       "      <td id=\"T_9513b_row12_col4\" class=\"data row12 col4\" >0.5012</td>\n",
       "      <td id=\"T_9513b_row12_col5\" class=\"data row12 col5\" >0.5841</td>\n",
       "      <td id=\"T_9513b_row12_col6\" class=\"data row12 col6\" >0.3973</td>\n",
       "      <td id=\"T_9513b_row12_col7\" class=\"data row12 col7\" >0.4097</td>\n",
       "      <td id=\"T_9513b_row12_col8\" class=\"data row12 col8\" >0.0220</td>\n",
       "    </tr>\n",
       "    <tr>\n",
       "      <th id=\"T_9513b_level0_row13\" class=\"row_heading level0 row13\" >dummy</th>\n",
       "      <td id=\"T_9513b_row13_col0\" class=\"data row13 col0\" >Dummy Classifier</td>\n",
       "      <td id=\"T_9513b_row13_col1\" class=\"data row13 col1\" >0.7343</td>\n",
       "      <td id=\"T_9513b_row13_col2\" class=\"data row13 col2\" >0.5000</td>\n",
       "      <td id=\"T_9513b_row13_col3\" class=\"data row13 col3\" >0.0000</td>\n",
       "      <td id=\"T_9513b_row13_col4\" class=\"data row13 col4\" >0.0000</td>\n",
       "      <td id=\"T_9513b_row13_col5\" class=\"data row13 col5\" >0.0000</td>\n",
       "      <td id=\"T_9513b_row13_col6\" class=\"data row13 col6\" >0.0000</td>\n",
       "      <td id=\"T_9513b_row13_col7\" class=\"data row13 col7\" >0.0000</td>\n",
       "      <td id=\"T_9513b_row13_col8\" class=\"data row13 col8\" >0.0210</td>\n",
       "    </tr>\n",
       "    <tr>\n",
       "      <th id=\"T_9513b_level0_row14\" class=\"row_heading level0 row14\" >svm</th>\n",
       "      <td id=\"T_9513b_row14_col0\" class=\"data row14 col0\" >SVM - Linear Kernel</td>\n",
       "      <td id=\"T_9513b_row14_col1\" class=\"data row14 col1\" >0.7241</td>\n",
       "      <td id=\"T_9513b_row14_col2\" class=\"data row14 col2\" >0.0000</td>\n",
       "      <td id=\"T_9513b_row14_col3\" class=\"data row14 col3\" >0.4972</td>\n",
       "      <td id=\"T_9513b_row14_col4\" class=\"data row14 col4\" >0.5642</td>\n",
       "      <td id=\"T_9513b_row14_col5\" class=\"data row14 col5\" >0.4825</td>\n",
       "      <td id=\"T_9513b_row14_col6\" class=\"data row14 col6\" >0.3131</td>\n",
       "      <td id=\"T_9513b_row14_col7\" class=\"data row14 col7\" >0.3434</td>\n",
       "      <td id=\"T_9513b_row14_col8\" class=\"data row14 col8\" >0.0360</td>\n",
       "    </tr>\n",
       "  </tbody>\n",
       "</table>\n"
      ],
      "text/plain": [
       "<pandas.io.formats.style.Styler at 0x12932efa0>"
      ]
     },
     "metadata": {},
     "output_type": "display_data"
    },
    {
     "data": {
      "text/html": [],
      "text/plain": [
       "<IPython.core.display.HTML object>"
      ]
     },
     "metadata": {},
     "output_type": "display_data"
    },
    {
     "data": {
      "text/html": [
       "<style>#sk-container-id-2 {color: black;background-color: white;}#sk-container-id-2 pre{padding: 0;}#sk-container-id-2 div.sk-toggleable {background-color: white;}#sk-container-id-2 label.sk-toggleable__label {cursor: pointer;display: block;width: 100%;margin-bottom: 0;padding: 0.3em;box-sizing: border-box;text-align: center;}#sk-container-id-2 label.sk-toggleable__label-arrow:before {content: \"▸\";float: left;margin-right: 0.25em;color: #696969;}#sk-container-id-2 label.sk-toggleable__label-arrow:hover:before {color: black;}#sk-container-id-2 div.sk-estimator:hover label.sk-toggleable__label-arrow:before {color: black;}#sk-container-id-2 div.sk-toggleable__content {max-height: 0;max-width: 0;overflow: hidden;text-align: left;background-color: #f0f8ff;}#sk-container-id-2 div.sk-toggleable__content pre {margin: 0.2em;color: black;border-radius: 0.25em;background-color: #f0f8ff;}#sk-container-id-2 input.sk-toggleable__control:checked~div.sk-toggleable__content {max-height: 200px;max-width: 100%;overflow: auto;}#sk-container-id-2 input.sk-toggleable__control:checked~label.sk-toggleable__label-arrow:before {content: \"▾\";}#sk-container-id-2 div.sk-estimator input.sk-toggleable__control:checked~label.sk-toggleable__label {background-color: #d4ebff;}#sk-container-id-2 div.sk-label input.sk-toggleable__control:checked~label.sk-toggleable__label {background-color: #d4ebff;}#sk-container-id-2 input.sk-hidden--visually {border: 0;clip: rect(1px 1px 1px 1px);clip: rect(1px, 1px, 1px, 1px);height: 1px;margin: -1px;overflow: hidden;padding: 0;position: absolute;width: 1px;}#sk-container-id-2 div.sk-estimator {font-family: monospace;background-color: #f0f8ff;border: 1px dotted black;border-radius: 0.25em;box-sizing: border-box;margin-bottom: 0.5em;}#sk-container-id-2 div.sk-estimator:hover {background-color: #d4ebff;}#sk-container-id-2 div.sk-parallel-item::after {content: \"\";width: 100%;border-bottom: 1px solid gray;flex-grow: 1;}#sk-container-id-2 div.sk-label:hover label.sk-toggleable__label {background-color: #d4ebff;}#sk-container-id-2 div.sk-serial::before {content: \"\";position: absolute;border-left: 1px solid gray;box-sizing: border-box;top: 0;bottom: 0;left: 50%;z-index: 0;}#sk-container-id-2 div.sk-serial {display: flex;flex-direction: column;align-items: center;background-color: white;padding-right: 0.2em;padding-left: 0.2em;position: relative;}#sk-container-id-2 div.sk-item {position: relative;z-index: 1;}#sk-container-id-2 div.sk-parallel {display: flex;align-items: stretch;justify-content: center;background-color: white;position: relative;}#sk-container-id-2 div.sk-item::before, #sk-container-id-2 div.sk-parallel-item::before {content: \"\";position: absolute;border-left: 1px solid gray;box-sizing: border-box;top: 0;bottom: 0;left: 50%;z-index: -1;}#sk-container-id-2 div.sk-parallel-item {display: flex;flex-direction: column;z-index: 1;position: relative;background-color: white;}#sk-container-id-2 div.sk-parallel-item:first-child::after {align-self: flex-end;width: 50%;}#sk-container-id-2 div.sk-parallel-item:last-child::after {align-self: flex-start;width: 50%;}#sk-container-id-2 div.sk-parallel-item:only-child::after {width: 0;}#sk-container-id-2 div.sk-dashed-wrapped {border: 1px dashed gray;margin: 0 0.4em 0.5em 0.4em;box-sizing: border-box;padding-bottom: 0.4em;background-color: white;}#sk-container-id-2 div.sk-label label {font-family: monospace;font-weight: bold;display: inline-block;line-height: 1.2em;}#sk-container-id-2 div.sk-label-container {text-align: center;}#sk-container-id-2 div.sk-container {/* jupyter's `normalize.less` sets `[hidden] { display: none; }` but bootstrap.min.css set `[hidden] { display: none !important; }` so we also need the `!important` here to be able to override the default hidden behavior on the sphinx rendered scikit-learn.org. See: https://github.com/scikit-learn/scikit-learn/issues/21755 */display: inline-block !important;position: relative;}#sk-container-id-2 div.sk-text-repr-fallback {display: none;}</style><div id=\"sk-container-id-2\" class=\"sk-top-container\"><div class=\"sk-text-repr-fallback\"><pre>LogisticRegression(C=1.0, class_weight=None, dual=False, fit_intercept=True,\n",
       "                   intercept_scaling=1, l1_ratio=None, max_iter=1000,\n",
       "                   multi_class=&#x27;auto&#x27;, n_jobs=None, penalty=&#x27;l2&#x27;,\n",
       "                   random_state=1407, solver=&#x27;lbfgs&#x27;, tol=0.0001, verbose=0,\n",
       "                   warm_start=False)</pre><b>In a Jupyter environment, please rerun this cell to show the HTML representation or trust the notebook. <br />On GitHub, the HTML representation is unable to render, please try loading this page with nbviewer.org.</b></div><div class=\"sk-container\" hidden><div class=\"sk-item\"><div class=\"sk-estimator sk-toggleable\"><input class=\"sk-toggleable__control sk-hidden--visually\" id=\"sk-estimator-id-2\" type=\"checkbox\" checked><label for=\"sk-estimator-id-2\" class=\"sk-toggleable__label sk-toggleable__label-arrow\">LogisticRegression</label><div class=\"sk-toggleable__content\"><pre>LogisticRegression(C=1.0, class_weight=None, dual=False, fit_intercept=True,\n",
       "                   intercept_scaling=1, l1_ratio=None, max_iter=1000,\n",
       "                   multi_class=&#x27;auto&#x27;, n_jobs=None, penalty=&#x27;l2&#x27;,\n",
       "                   random_state=1407, solver=&#x27;lbfgs&#x27;, tol=0.0001, verbose=0,\n",
       "                   warm_start=False)</pre></div></div></div></div></div>"
      ],
      "text/plain": [
       "LogisticRegression(C=1.0, class_weight=None, dual=False, fit_intercept=True,\n",
       "                   intercept_scaling=1, l1_ratio=None, max_iter=1000,\n",
       "                   multi_class='auto', n_jobs=None, penalty='l2',\n",
       "                   random_state=1407, solver='lbfgs', tol=0.0001, verbose=0,\n",
       "                   warm_start=False)"
      ]
     },
     "execution_count": 32,
     "metadata": {},
     "output_type": "execute_result"
    }
   ],
   "source": [
    "from pycaret.classification import *\n",
    "\n",
    "\n",
    "clf1 = setup(data, target='Churn')\n",
    "\n",
    "\n",
    "compare_models()\n"
   ]
  },
  {
   "cell_type": "markdown",
   "id": "2df15809-bab2-4a68-b0ec-f04ff3d833dc",
   "metadata": {},
   "source": [
    "Im using the PyCaret library, which simplifies the process of building and comparing machine learning models. First, Im setting up my classification task by calling setup() and specifying that 'Churn' is my target variable. PyCaret then automates several essential data preprocessing steps. Next, I use compare_models() to compare and evaluate various machine learning algorithms to find the best-performing one for predicting churn. This function assesses different models' performance using various metrics, helping me identify the most suitable algorithm for my specific dataset and task.\n",
    "\n",
    "By comparing the scores, Logistic regression is the best model, higher accuracy and AUC value is closer to 1."
   ]
  },
  {
   "cell_type": "code",
   "execution_count": 33,
   "id": "69881a3d-06ae-4f2f-bfb3-c82bb1d50fd8",
   "metadata": {},
   "outputs": [
    {
     "data": {
      "text/html": [],
      "text/plain": [
       "<IPython.core.display.HTML object>"
      ]
     },
     "metadata": {},
     "output_type": "display_data"
    },
    {
     "data": {
      "text/html": [
       "<style type=\"text/css\">\n",
       "#T_eee1e_row10_col0, #T_eee1e_row10_col1, #T_eee1e_row10_col2, #T_eee1e_row10_col3, #T_eee1e_row10_col4, #T_eee1e_row10_col5, #T_eee1e_row10_col6 {\n",
       "  background: yellow;\n",
       "}\n",
       "</style>\n",
       "<table id=\"T_eee1e\">\n",
       "  <thead>\n",
       "    <tr>\n",
       "      <th class=\"blank level0\" >&nbsp;</th>\n",
       "      <th id=\"T_eee1e_level0_col0\" class=\"col_heading level0 col0\" >Accuracy</th>\n",
       "      <th id=\"T_eee1e_level0_col1\" class=\"col_heading level0 col1\" >AUC</th>\n",
       "      <th id=\"T_eee1e_level0_col2\" class=\"col_heading level0 col2\" >Recall</th>\n",
       "      <th id=\"T_eee1e_level0_col3\" class=\"col_heading level0 col3\" >Prec.</th>\n",
       "      <th id=\"T_eee1e_level0_col4\" class=\"col_heading level0 col4\" >F1</th>\n",
       "      <th id=\"T_eee1e_level0_col5\" class=\"col_heading level0 col5\" >Kappa</th>\n",
       "      <th id=\"T_eee1e_level0_col6\" class=\"col_heading level0 col6\" >MCC</th>\n",
       "    </tr>\n",
       "    <tr>\n",
       "      <th class=\"index_name level0\" >Fold</th>\n",
       "      <th class=\"blank col0\" >&nbsp;</th>\n",
       "      <th class=\"blank col1\" >&nbsp;</th>\n",
       "      <th class=\"blank col2\" >&nbsp;</th>\n",
       "      <th class=\"blank col3\" >&nbsp;</th>\n",
       "      <th class=\"blank col4\" >&nbsp;</th>\n",
       "      <th class=\"blank col5\" >&nbsp;</th>\n",
       "      <th class=\"blank col6\" >&nbsp;</th>\n",
       "    </tr>\n",
       "  </thead>\n",
       "  <tbody>\n",
       "    <tr>\n",
       "      <th id=\"T_eee1e_level0_row0\" class=\"row_heading level0 row0\" >0</th>\n",
       "      <td id=\"T_eee1e_row0_col0\" class=\"data row0 col0\" >0.8032</td>\n",
       "      <td id=\"T_eee1e_row0_col1\" class=\"data row0 col1\" >0.8523</td>\n",
       "      <td id=\"T_eee1e_row0_col2\" class=\"data row0 col2\" >0.5802</td>\n",
       "      <td id=\"T_eee1e_row0_col3\" class=\"data row0 col3\" >0.6441</td>\n",
       "      <td id=\"T_eee1e_row0_col4\" class=\"data row0 col4\" >0.6104</td>\n",
       "      <td id=\"T_eee1e_row0_col5\" class=\"data row0 col5\" >0.4793</td>\n",
       "      <td id=\"T_eee1e_row0_col6\" class=\"data row0 col6\" >0.4805</td>\n",
       "    </tr>\n",
       "    <tr>\n",
       "      <th id=\"T_eee1e_level0_row1\" class=\"row_heading level0 row1\" >1</th>\n",
       "      <td id=\"T_eee1e_row1_col0\" class=\"data row1 col0\" >0.7606</td>\n",
       "      <td id=\"T_eee1e_row1_col1\" class=\"data row1 col1\" >0.8081</td>\n",
       "      <td id=\"T_eee1e_row1_col2\" class=\"data row1 col2\" >0.4351</td>\n",
       "      <td id=\"T_eee1e_row1_col3\" class=\"data row1 col3\" >0.5644</td>\n",
       "      <td id=\"T_eee1e_row1_col4\" class=\"data row1 col4\" >0.4914</td>\n",
       "      <td id=\"T_eee1e_row1_col5\" class=\"data row1 col5\" >0.3383</td>\n",
       "      <td id=\"T_eee1e_row1_col6\" class=\"data row1 col6\" >0.3432</td>\n",
       "    </tr>\n",
       "    <tr>\n",
       "      <th id=\"T_eee1e_level0_row2\" class=\"row_heading level0 row2\" >2</th>\n",
       "      <td id=\"T_eee1e_row2_col0\" class=\"data row2 col0\" >0.8089</td>\n",
       "      <td id=\"T_eee1e_row2_col1\" class=\"data row2 col1\" >0.8251</td>\n",
       "      <td id=\"T_eee1e_row2_col2\" class=\"data row2 col2\" >0.5385</td>\n",
       "      <td id=\"T_eee1e_row2_col3\" class=\"data row2 col3\" >0.6731</td>\n",
       "      <td id=\"T_eee1e_row2_col4\" class=\"data row2 col4\" >0.5983</td>\n",
       "      <td id=\"T_eee1e_row2_col5\" class=\"data row2 col5\" >0.4750</td>\n",
       "      <td id=\"T_eee1e_row2_col6\" class=\"data row2 col6\" >0.4801</td>\n",
       "    </tr>\n",
       "    <tr>\n",
       "      <th id=\"T_eee1e_level0_row3\" class=\"row_heading level0 row3\" >3</th>\n",
       "      <td id=\"T_eee1e_row3_col0\" class=\"data row3 col0\" >0.7744</td>\n",
       "      <td id=\"T_eee1e_row3_col1\" class=\"data row3 col1\" >0.8010</td>\n",
       "      <td id=\"T_eee1e_row3_col2\" class=\"data row3 col2\" >0.5462</td>\n",
       "      <td id=\"T_eee1e_row3_col3\" class=\"data row3 col3\" >0.5772</td>\n",
       "      <td id=\"T_eee1e_row3_col4\" class=\"data row3 col4\" >0.5613</td>\n",
       "      <td id=\"T_eee1e_row3_col5\" class=\"data row3 col5\" >0.4096</td>\n",
       "      <td id=\"T_eee1e_row3_col6\" class=\"data row3 col6\" >0.4099</td>\n",
       "    </tr>\n",
       "    <tr>\n",
       "      <th id=\"T_eee1e_level0_row4\" class=\"row_heading level0 row4\" >4</th>\n",
       "      <td id=\"T_eee1e_row4_col0\" class=\"data row4 col0\" >0.7886</td>\n",
       "      <td id=\"T_eee1e_row4_col1\" class=\"data row4 col1\" >0.8415</td>\n",
       "      <td id=\"T_eee1e_row4_col2\" class=\"data row4 col2\" >0.5496</td>\n",
       "      <td id=\"T_eee1e_row4_col3\" class=\"data row4 col3\" >0.6154</td>\n",
       "      <td id=\"T_eee1e_row4_col4\" class=\"data row4 col4\" >0.5806</td>\n",
       "      <td id=\"T_eee1e_row4_col5\" class=\"data row4 col5\" >0.4399</td>\n",
       "      <td id=\"T_eee1e_row4_col6\" class=\"data row4 col6\" >0.4412</td>\n",
       "    </tr>\n",
       "    <tr>\n",
       "      <th id=\"T_eee1e_level0_row5\" class=\"row_heading level0 row5\" >5</th>\n",
       "      <td id=\"T_eee1e_row5_col0\" class=\"data row5 col0\" >0.7744</td>\n",
       "      <td id=\"T_eee1e_row5_col1\" class=\"data row5 col1\" >0.8155</td>\n",
       "      <td id=\"T_eee1e_row5_col2\" class=\"data row5 col2\" >0.5191</td>\n",
       "      <td id=\"T_eee1e_row5_col3\" class=\"data row5 col3\" >0.5862</td>\n",
       "      <td id=\"T_eee1e_row5_col4\" class=\"data row5 col4\" >0.5506</td>\n",
       "      <td id=\"T_eee1e_row5_col5\" class=\"data row5 col5\" >0.4007</td>\n",
       "      <td id=\"T_eee1e_row5_col6\" class=\"data row5 col6\" >0.4021</td>\n",
       "    </tr>\n",
       "    <tr>\n",
       "      <th id=\"T_eee1e_level0_row6\" class=\"row_heading level0 row6\" >6</th>\n",
       "      <td id=\"T_eee1e_row6_col0\" class=\"data row6 col0\" >0.8130</td>\n",
       "      <td id=\"T_eee1e_row6_col1\" class=\"data row6 col1\" >0.8823</td>\n",
       "      <td id=\"T_eee1e_row6_col2\" class=\"data row6 col2\" >0.5573</td>\n",
       "      <td id=\"T_eee1e_row6_col3\" class=\"data row6 col3\" >0.6822</td>\n",
       "      <td id=\"T_eee1e_row6_col4\" class=\"data row6 col4\" >0.6134</td>\n",
       "      <td id=\"T_eee1e_row6_col5\" class=\"data row6 col5\" >0.4918</td>\n",
       "      <td id=\"T_eee1e_row6_col6\" class=\"data row6 col6\" >0.4961</td>\n",
       "    </tr>\n",
       "    <tr>\n",
       "      <th id=\"T_eee1e_level0_row7\" class=\"row_heading level0 row7\" >7</th>\n",
       "      <td id=\"T_eee1e_row7_col0\" class=\"data row7 col0\" >0.8008</td>\n",
       "      <td id=\"T_eee1e_row7_col1\" class=\"data row7 col1\" >0.8379</td>\n",
       "      <td id=\"T_eee1e_row7_col2\" class=\"data row7 col2\" >0.5038</td>\n",
       "      <td id=\"T_eee1e_row7_col3\" class=\"data row7 col3\" >0.6667</td>\n",
       "      <td id=\"T_eee1e_row7_col4\" class=\"data row7 col4\" >0.5739</td>\n",
       "      <td id=\"T_eee1e_row7_col5\" class=\"data row7 col5\" >0.4472</td>\n",
       "      <td id=\"T_eee1e_row7_col6\" class=\"data row7 col6\" >0.4547</td>\n",
       "    </tr>\n",
       "    <tr>\n",
       "      <th id=\"T_eee1e_level0_row8\" class=\"row_heading level0 row8\" >8</th>\n",
       "      <td id=\"T_eee1e_row8_col0\" class=\"data row8 col0\" >0.7785</td>\n",
       "      <td id=\"T_eee1e_row8_col1\" class=\"data row8 col1\" >0.8229</td>\n",
       "      <td id=\"T_eee1e_row8_col2\" class=\"data row8 col2\" >0.4962</td>\n",
       "      <td id=\"T_eee1e_row8_col3\" class=\"data row8 col3\" >0.6019</td>\n",
       "      <td id=\"T_eee1e_row8_col4\" class=\"data row8 col4\" >0.5439</td>\n",
       "      <td id=\"T_eee1e_row8_col5\" class=\"data row8 col5\" >0.3994</td>\n",
       "      <td id=\"T_eee1e_row8_col6\" class=\"data row8 col6\" >0.4027</td>\n",
       "    </tr>\n",
       "    <tr>\n",
       "      <th id=\"T_eee1e_level0_row9\" class=\"row_heading level0 row9\" >9</th>\n",
       "      <td id=\"T_eee1e_row9_col0\" class=\"data row9 col0\" >0.8171</td>\n",
       "      <td id=\"T_eee1e_row9_col1\" class=\"data row9 col1\" >0.8508</td>\n",
       "      <td id=\"T_eee1e_row9_col2\" class=\"data row9 col2\" >0.5649</td>\n",
       "      <td id=\"T_eee1e_row9_col3\" class=\"data row9 col3\" >0.6916</td>\n",
       "      <td id=\"T_eee1e_row9_col4\" class=\"data row9 col4\" >0.6218</td>\n",
       "      <td id=\"T_eee1e_row9_col5\" class=\"data row9 col5\" >0.5028</td>\n",
       "      <td id=\"T_eee1e_row9_col6\" class=\"data row9 col6\" >0.5073</td>\n",
       "    </tr>\n",
       "    <tr>\n",
       "      <th id=\"T_eee1e_level0_row10\" class=\"row_heading level0 row10\" >Mean</th>\n",
       "      <td id=\"T_eee1e_row10_col0\" class=\"data row10 col0\" >0.7920</td>\n",
       "      <td id=\"T_eee1e_row10_col1\" class=\"data row10 col1\" >0.8337</td>\n",
       "      <td id=\"T_eee1e_row10_col2\" class=\"data row10 col2\" >0.5291</td>\n",
       "      <td id=\"T_eee1e_row10_col3\" class=\"data row10 col3\" >0.6303</td>\n",
       "      <td id=\"T_eee1e_row10_col4\" class=\"data row10 col4\" >0.5746</td>\n",
       "      <td id=\"T_eee1e_row10_col5\" class=\"data row10 col5\" >0.4384</td>\n",
       "      <td id=\"T_eee1e_row10_col6\" class=\"data row10 col6\" >0.4418</td>\n",
       "    </tr>\n",
       "    <tr>\n",
       "      <th id=\"T_eee1e_level0_row11\" class=\"row_heading level0 row11\" >Std</th>\n",
       "      <td id=\"T_eee1e_row11_col0\" class=\"data row11 col0\" >0.0183</td>\n",
       "      <td id=\"T_eee1e_row11_col1\" class=\"data row11 col1\" >0.0231</td>\n",
       "      <td id=\"T_eee1e_row11_col2\" class=\"data row11 col2\" >0.0402</td>\n",
       "      <td id=\"T_eee1e_row11_col3\" class=\"data row11 col3\" >0.0447</td>\n",
       "      <td id=\"T_eee1e_row11_col4\" class=\"data row11 col4\" >0.0377</td>\n",
       "      <td id=\"T_eee1e_row11_col5\" class=\"data row11 col5\" >0.0489</td>\n",
       "      <td id=\"T_eee1e_row11_col6\" class=\"data row11 col6\" >0.0492</td>\n",
       "    </tr>\n",
       "  </tbody>\n",
       "</table>\n"
      ],
      "text/plain": [
       "<pandas.io.formats.style.Styler at 0x12d5eeaf0>"
      ]
     },
     "metadata": {},
     "output_type": "display_data"
    },
    {
     "data": {
      "text/html": [],
      "text/plain": [
       "<IPython.core.display.HTML object>"
      ]
     },
     "metadata": {},
     "output_type": "display_data"
    },
    {
     "name": "stdout",
     "output_type": "stream",
     "text": [
      "Fitting 10 folds for each of 10 candidates, totalling 100 fits\n"
     ]
    }
   ],
   "source": [
    "from sklearn.linear_model import LogisticRegression\n",
    "\n",
    "tuned_model = tune_model(LogisticRegression())"
   ]
  },
  {
   "cell_type": "markdown",
   "id": "3898a5f6-f32a-4ed9-8e57-619864025919",
   "metadata": {},
   "source": [
    "I'm fine-tuning a Logistic Regression model using PyCaret. The purpose of this step is to optimize the model's hyperparameters, which are settings that impact its performance. By systematically searching through various hyperparameter combinations, I aim to improve the model's accuracy and overall predictive capabilities. This optimization process helps ensure that the Logistic Regression model is tailored specifically to our dataset, potentially enhancing its ability to make accurate predictions on new data."
   ]
  },
  {
   "cell_type": "code",
   "execution_count": 34,
   "id": "1585467d-ceb3-4642-8994-879a02f70624",
   "metadata": {},
   "outputs": [
    {
     "data": {
      "image/png": "[encoded data removed]",
      "text/plain": [
       "<Figure size 1200x600 with 1 Axes>"
      ]
     },
     "metadata": {},
     "output_type": "display_data"
    },
    {
     "data": {
      "application/vnd.jupyter.widget-view+json": {
       "model_id": "064a217b7ec8431a967b5be5a6621cd4",
       "version_major": 2,
       "version_minor": 0
      },
      "text/plain": [
       "interactive(children=(ToggleButtons(description='Plot Type:', icons=('',), options=(('Pipeline Plot', 'pipelin…"
      ]
     },
     "metadata": {},
     "output_type": "display_data"
    }
   ],
   "source": [
    "evaluate_model(tuned_model)\n"
   ]
  },
  {
   "cell_type": "code",
   "execution_count": 35,
   "id": "8743a22f-d9ea-4b76-b841-b3abdab52496",
   "metadata": {},
   "outputs": [],
   "source": [
    "final_model = finalize_model(tuned_model)\n"
   ]
  },
  {
   "cell_type": "code",
   "execution_count": 36,
   "id": "695a5d8a-da8b-479f-bd54-61a0786fe5d9",
   "metadata": {},
   "outputs": [
    {
     "name": "stdout",
     "output_type": "stream",
     "text": [
      "Transformation Pipeline and Model Successfully Saved\n"
     ]
    },
    {
     "data": {
      "text/plain": [
       "(Pipeline(memory=Memory(location=None),\n",
       "          steps=[('numerical_imputer',\n",
       "                  TransformerWrapper(exclude=None,\n",
       "                                     include=['tenure', 'PhoneService',\n",
       "                                              'Contract', 'MonthlyCharges',\n",
       "                                              'TotalCharges',\n",
       "                                              'totalcharge_tenure_ratio'],\n",
       "                                     transformer=SimpleImputer(add_indicator=False,\n",
       "                                                               copy=True,\n",
       "                                                               fill_value=None,\n",
       "                                                               keep_empty_features=False,\n",
       "                                                               missing_values=nan,\n",
       "                                                               strategy='mean',\n",
       "                                                               verbose='deprec...\n",
       "                                                               keep_empty_features=False,\n",
       "                                                               missing_values=nan,\n",
       "                                                               strategy='most_frequent',\n",
       "                                                               verbose='deprecated'))),\n",
       "                 ('actual_estimator',\n",
       "                  LogisticRegression(C=2.493, class_weight={}, dual=False,\n",
       "                                     fit_intercept=True, intercept_scaling=1,\n",
       "                                     l1_ratio=None, max_iter=100,\n",
       "                                     multi_class='auto', n_jobs=None,\n",
       "                                     penalty='l2', random_state=None,\n",
       "                                     solver='lbfgs', tol=0.0001, verbose=0,\n",
       "                                     warm_start=False))],\n",
       "          verbose=False),\n",
       " 'churn_model.pkl')"
      ]
     },
     "execution_count": 36,
     "metadata": {},
     "output_type": "execute_result"
    }
   ],
   "source": [
    "save_model(final_model, 'churn_model')\n"
   ]
  },
  {
   "cell_type": "code",
   "execution_count": null,
   "id": "29c35570-cc18-4d25-aca1-04578502e4cb",
   "metadata": {},
   "outputs": [],
   "source": [
    "saving the model"
   ]
  },
  {
   "cell_type": "code",
   "execution_count": 37,
   "id": "960310ac-7484-415e-96a1-7ca4f0a4c4e4",
   "metadata": {},
   "outputs": [
    {
     "name": "stdout",
     "output_type": "stream",
     "text": [
      "Transformation Pipeline and Model Successfully Loaded\n"
     ]
    }
   ],
   "source": [
    "loaded_model = load_model('churn_model')"
   ]
  },
  {
   "cell_type": "code",
   "execution_count": null,
   "id": "a69c8476-a2f6-473a-ad00-f99dd3619d36",
   "metadata": {},
   "outputs": [],
   "source": [
    "loading the saved model pipeline"
   ]
  },
  {
   "cell_type": "code",
   "execution_count": 38,
   "id": "ca5d9499-bf53-4191-a5ed-c7a1f430922f",
   "metadata": {},
   "outputs": [
    {
     "data": {
      "text/html": [
       "<div>\n",
       "<style scoped>\n",
       "    .dataframe tbody tr th:only-of-type {\n",
       "        vertical-align: middle;\n",
       "    }\n",
       "\n",
       "    .dataframe tbody tr th {\n",
       "        vertical-align: top;\n",
       "    }\n",
       "\n",
       "    .dataframe thead th {\n",
       "        text-align: right;\n",
       "    }\n",
       "</style>\n",
       "<table border=\"1\" class=\"dataframe\">\n",
       "  <thead>\n",
       "    <tr style=\"text-align: right;\">\n",
       "      <th></th>\n",
       "      <th>customerID</th>\n",
       "      <th>tenure</th>\n",
       "      <th>PhoneService</th>\n",
       "      <th>Contract</th>\n",
       "      <th>PaymentMethod</th>\n",
       "      <th>MonthlyCharges</th>\n",
       "      <th>TotalCharges</th>\n",
       "      <th>charge_per_tenure</th>\n",
       "    </tr>\n",
       "  </thead>\n",
       "  <tbody>\n",
       "    <tr>\n",
       "      <th>0</th>\n",
       "      <td>9305-CKSKC</td>\n",
       "      <td>22</td>\n",
       "      <td>1</td>\n",
       "      <td>0</td>\n",
       "      <td>2</td>\n",
       "      <td>97.40</td>\n",
       "      <td>811.70</td>\n",
       "      <td>36.895455</td>\n",
       "    </tr>\n",
       "    <tr>\n",
       "      <th>1</th>\n",
       "      <td>1452-KNGVK</td>\n",
       "      <td>8</td>\n",
       "      <td>0</td>\n",
       "      <td>1</td>\n",
       "      <td>1</td>\n",
       "      <td>77.30</td>\n",
       "      <td>1701.95</td>\n",
       "      <td>212.743750</td>\n",
       "    </tr>\n",
       "    <tr>\n",
       "      <th>2</th>\n",
       "      <td>6723-OKKJM</td>\n",
       "      <td>28</td>\n",
       "      <td>1</td>\n",
       "      <td>0</td>\n",
       "      <td>0</td>\n",
       "      <td>28.25</td>\n",
       "      <td>250.90</td>\n",
       "      <td>8.960714</td>\n",
       "    </tr>\n",
       "    <tr>\n",
       "      <th>3</th>\n",
       "      <td>7832-POPKP</td>\n",
       "      <td>62</td>\n",
       "      <td>1</td>\n",
       "      <td>0</td>\n",
       "      <td>2</td>\n",
       "      <td>101.70</td>\n",
       "      <td>3106.56</td>\n",
       "      <td>50.105806</td>\n",
       "    </tr>\n",
       "    <tr>\n",
       "      <th>4</th>\n",
       "      <td>6348-TACGU</td>\n",
       "      <td>10</td>\n",
       "      <td>0</td>\n",
       "      <td>0</td>\n",
       "      <td>1</td>\n",
       "      <td>51.15</td>\n",
       "      <td>3440.97</td>\n",
       "      <td>344.097000</td>\n",
       "    </tr>\n",
       "  </tbody>\n",
       "</table>\n",
       "</div>"
      ],
      "text/plain": [
       "   customerID  tenure  PhoneService  Contract  PaymentMethod  MonthlyCharges  \\\n",
       "0  9305-CKSKC      22             1         0              2           97.40   \n",
       "1  1452-KNGVK       8             0         1              1           77.30   \n",
       "2  6723-OKKJM      28             1         0              0           28.25   \n",
       "3  7832-POPKP      62             1         0              2          101.70   \n",
       "4  6348-TACGU      10             0         0              1           51.15   \n",
       "\n",
       "   TotalCharges  charge_per_tenure  \n",
       "0        811.70          36.895455  \n",
       "1       1701.95         212.743750  \n",
       "2        250.90           8.960714  \n",
       "3       3106.56          50.105806  \n",
       "4       3440.97         344.097000  "
      ]
     },
     "execution_count": 38,
     "metadata": {},
     "output_type": "execute_result"
    }
   ],
   "source": [
    "new_churn_data = pd.read_csv(\"/Users/karthikchekuri/Desktop/regis ass/new_churn_data.csv\")\n",
    "\n",
    "new_churn_data.head()\n"
   ]
  },
  {
   "cell_type": "code",
   "execution_count": 39,
   "id": "ecd574b1-9dba-4f17-bba4-4c54250f5520",
   "metadata": {},
   "outputs": [],
   "source": [
    "new_churn_data.drop(['customerID', 'PaymentMethod'], axis = 1, inplace = True)"
   ]
  },
  {
   "cell_type": "code",
   "execution_count": 43,
   "id": "2cf46af4-a57d-4aca-9cd5-bb641f441c75",
   "metadata": {},
   "outputs": [],
   "source": [
    "new_churn_data.rename(columns={'charge_per_tenure': 'totalcharge_tenure_ratio'},inplace=True)"
   ]
  },
  {
   "cell_type": "markdown",
   "id": "0563b023-3b28-402f-a86e-156014c756b7",
   "metadata": {},
   "source": [
    "cleaning up the data, to make sure both are equal. "
   ]
  },
  {
   "cell_type": "code",
   "execution_count": 44,
   "id": "13c2413f-a870-47ff-bbb7-62d2977f438b",
   "metadata": {},
   "outputs": [
    {
     "data": {
      "text/html": [],
      "text/plain": [
       "<IPython.core.display.HTML object>"
      ]
     },
     "metadata": {},
     "output_type": "display_data"
    }
   ],
   "source": [
    "\n",
    "new_data_predictions = predict_model(loaded_model, data=new_churn_data)"
   ]
  },
  {
   "cell_type": "code",
   "execution_count": 45,
   "id": "f06f93aa-9960-4c5a-9553-ced08b2d7f44",
   "metadata": {},
   "outputs": [
    {
     "name": "stdout",
     "output_type": "stream",
     "text": [
      "   tenure  PhoneService  Contract  MonthlyCharges  TotalCharges  \\\n",
      "0      22             1         0       97.400002    811.700012   \n",
      "1       8             0         1       77.300003   1701.949951   \n",
      "2      28             1         0       28.250000    250.899994   \n",
      "3      62             1         0      101.699997   3106.560059   \n",
      "4      10             0         0       51.150002   3440.969971   \n",
      "\n",
      "   totalcharge_tenure_ratio  prediction_label  prediction_score  \n",
      "0                 36.895454                 1            0.5118  \n",
      "1                212.743744                 1            0.6305  \n",
      "2                  8.960714                 0            0.9197  \n",
      "3                 50.105808                 0            0.8309  \n",
      "4                344.096985                 1            0.7673  \n"
     ]
    }
   ],
   "source": [
    "print(new_data_predictions)\n"
   ]
  },
  {
   "cell_type": "markdown",
   "id": "a0e90a79-f331-4d38-91e9-f6ded7c04e4c",
   "metadata": {},
   "source": [
    "The 'prediction_label' appears to be binary, likely indicating whether a customer is predicted to churn 1 or not 0. The 'prediction_score' provides a numerical score associated with each prediction. These predictions could be valuable for identifying customers who are at risk of churning, allowing for targeted retention efforts."
   ]
  }
 ],
 "metadata": {
  "kernelspec": {
   "display_name": "xgboost-env",
   "language": "python",
   "name": "xgboost-env"
  },
  "language_info": {
   "codemirror_mode": {
    "name": "ipython",
    "version": 3
   },
   "file_extension": ".py",
   "mimetype": "text/x-python",
   "name": "python",
   "nbconvert_exporter": "python",
   "pygments_lexer": "ipython3",
   "version": "3.9.18"
  }
 },
 "nbformat": 4,
 "nbformat_minor": 5
}
